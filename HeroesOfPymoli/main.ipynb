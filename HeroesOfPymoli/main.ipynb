{
 "cells": [
  {
   "cell_type": "code",
   "execution_count": 62,
   "metadata": {},
   "outputs": [
    {
     "data": {
      "text/html": [
       "<div>\n",
       "<style scoped>\n",
       "    .dataframe tbody tr th:only-of-type {\n",
       "        vertical-align: middle;\n",
       "    }\n",
       "\n",
       "    .dataframe tbody tr th {\n",
       "        vertical-align: top;\n",
       "    }\n",
       "\n",
       "    .dataframe thead th {\n",
       "        text-align: right;\n",
       "    }\n",
       "</style>\n",
       "<table border=\"1\" class=\"dataframe\">\n",
       "  <thead>\n",
       "    <tr style=\"text-align: right;\">\n",
       "      <th></th>\n",
       "      <th>Purchase ID</th>\n",
       "      <th>SN</th>\n",
       "      <th>Age</th>\n",
       "      <th>Gender</th>\n",
       "      <th>Item ID</th>\n",
       "      <th>Item Name</th>\n",
       "      <th>Price</th>\n",
       "    </tr>\n",
       "  </thead>\n",
       "  <tbody>\n",
       "    <tr>\n",
       "      <th>0</th>\n",
       "      <td>0</td>\n",
       "      <td>Lisim78</td>\n",
       "      <td>20</td>\n",
       "      <td>Male</td>\n",
       "      <td>108</td>\n",
       "      <td>Extraction, Quickblade Of Trembling Hands</td>\n",
       "      <td>3.53</td>\n",
       "    </tr>\n",
       "    <tr>\n",
       "      <th>1</th>\n",
       "      <td>1</td>\n",
       "      <td>Lisovynya38</td>\n",
       "      <td>40</td>\n",
       "      <td>Male</td>\n",
       "      <td>143</td>\n",
       "      <td>Frenzied Scimitar</td>\n",
       "      <td>1.56</td>\n",
       "    </tr>\n",
       "    <tr>\n",
       "      <th>2</th>\n",
       "      <td>2</td>\n",
       "      <td>Ithergue48</td>\n",
       "      <td>24</td>\n",
       "      <td>Male</td>\n",
       "      <td>92</td>\n",
       "      <td>Final Critic</td>\n",
       "      <td>4.88</td>\n",
       "    </tr>\n",
       "    <tr>\n",
       "      <th>3</th>\n",
       "      <td>3</td>\n",
       "      <td>Chamassasya86</td>\n",
       "      <td>24</td>\n",
       "      <td>Male</td>\n",
       "      <td>100</td>\n",
       "      <td>Blindscythe</td>\n",
       "      <td>3.27</td>\n",
       "    </tr>\n",
       "    <tr>\n",
       "      <th>4</th>\n",
       "      <td>4</td>\n",
       "      <td>Iskosia90</td>\n",
       "      <td>23</td>\n",
       "      <td>Male</td>\n",
       "      <td>131</td>\n",
       "      <td>Fury</td>\n",
       "      <td>1.44</td>\n",
       "    </tr>\n",
       "  </tbody>\n",
       "</table>\n",
       "</div>"
      ],
      "text/plain": [
       "   Purchase ID             SN  Age Gender  Item ID  \\\n",
       "0            0        Lisim78   20   Male      108   \n",
       "1            1    Lisovynya38   40   Male      143   \n",
       "2            2     Ithergue48   24   Male       92   \n",
       "3            3  Chamassasya86   24   Male      100   \n",
       "4            4      Iskosia90   23   Male      131   \n",
       "\n",
       "                                   Item Name  Price  \n",
       "0  Extraction, Quickblade Of Trembling Hands   3.53  \n",
       "1                          Frenzied Scimitar   1.56  \n",
       "2                               Final Critic   4.88  \n",
       "3                                Blindscythe   3.27  \n",
       "4                                       Fury   1.44  "
      ]
     },
     "execution_count": 62,
     "metadata": {},
     "output_type": "execute_result"
    }
   ],
   "source": [
    "# Dependencies and Setup\n",
    "import pandas as pd\n",
    "\n",
    "# File to Load \n",
    "file_to_load = \"Resources/purchase_data.csv\"\n",
    "\n",
    "# Read Purchasing File and store into Pandas data frame\n",
    "purchase_data_df = pd.read_csv(file_to_load)\n",
    "purchase_data_df.head()"
   ]
  },
  {
   "cell_type": "code",
   "execution_count": 63,
   "metadata": {},
   "outputs": [
    {
     "data": {
      "text/plain": [
       "Lisosia93       5\n",
       "Idastidru52     4\n",
       "Iral74          4\n",
       "Lassilsala30    3\n",
       "Pheodaisun84    3\n",
       "               ..\n",
       "Yathecal72      1\n",
       "Aerillorin70    1\n",
       "Irithlis29      1\n",
       "Lisassasta50    1\n",
       "Ririp86         1\n",
       "Name: SN, Length: 576, dtype: int64"
      ]
     },
     "execution_count": 63,
     "metadata": {},
     "output_type": "execute_result"
    }
   ],
   "source": [
    "# Find the total number of players\n",
    "players = purchase_data_df[\"SN\"].value_counts()\n",
    "players"
   ]
  },
  {
   "cell_type": "code",
   "execution_count": 64,
   "metadata": {},
   "outputs": [
    {
     "data": {
      "text/plain": [
       "Final Critic                                    13\n",
       "Oathbreaker, Last Hope of the Breaking Storm    12\n",
       "Fiery Glass Crusader                             9\n",
       "Nirvana                                          9\n",
       "Persuasion                                       9\n",
       "                                                ..\n",
       "Alpha, Reach of Ending Hope                      1\n",
       "Betrayer                                         1\n",
       "Riddle, Tribute of Ended Dreams                  1\n",
       "Ghost Reaver, Longsword of Magic                 1\n",
       "Gladiator's Glaive                               1\n",
       "Name: Item Name, Length: 179, dtype: int64"
      ]
     },
     "execution_count": 64,
     "metadata": {},
     "output_type": "execute_result"
    }
   ],
   "source": [
    "# find the total number of Unique Items\n",
    "items = purchase_data_df[\"Item Name\"].value_counts()\n",
    "items"
   ]
  },
  {
   "cell_type": "code",
   "execution_count": 65,
   "metadata": {},
   "outputs": [
    {
     "data": {
      "text/plain": [
       "3.050987179487176"
      ]
     },
     "execution_count": 65,
     "metadata": {},
     "output_type": "execute_result"
    }
   ],
   "source": [
    "# Find the Average Purchase Price\n",
    "app = purchase_data_df[\"Price\"].mean()\n",
    "app"
   ]
  },
  {
   "cell_type": "code",
   "execution_count": 66,
   "metadata": {},
   "outputs": [
    {
     "data": {
      "text/plain": [
       "780"
      ]
     },
     "execution_count": 66,
     "metadata": {},
     "output_type": "execute_result"
    }
   ],
   "source": [
    "#Find the total number of purchases\n",
    "sales_count=purchase_data_df[\"Price\"].count()\n",
    "sales_count"
   ]
  },
  {
   "cell_type": "code",
   "execution_count": 67,
   "metadata": {},
   "outputs": [
    {
     "data": {
      "text/plain": [
       "2379.77"
      ]
     },
     "execution_count": 67,
     "metadata": {},
     "output_type": "execute_result"
    }
   ],
   "source": [
    "# Find the total revenue\n",
    "total_revenue=purchase_data_df[\"Price\"].sum()\n",
    "total_revenue"
   ]
  },
  {
   "cell_type": "code",
   "execution_count": 68,
   "metadata": {},
   "outputs": [
    {
     "data": {
      "text/html": [
       "<div>\n",
       "<style scoped>\n",
       "    .dataframe tbody tr th:only-of-type {\n",
       "        vertical-align: middle;\n",
       "    }\n",
       "\n",
       "    .dataframe tbody tr th {\n",
       "        vertical-align: top;\n",
       "    }\n",
       "\n",
       "    .dataframe thead th {\n",
       "        text-align: right;\n",
       "    }\n",
       "</style>\n",
       "<table border=\"1\" class=\"dataframe\">\n",
       "  <thead>\n",
       "    <tr style=\"text-align: right;\">\n",
       "      <th></th>\n",
       "      <th>Category</th>\n",
       "      <th>Amount</th>\n",
       "    </tr>\n",
       "  </thead>\n",
       "  <tbody>\n",
       "    <tr>\n",
       "      <th>1</th>\n",
       "      <td>Player Count</td>\n",
       "      <td>576</td>\n",
       "    </tr>\n",
       "    <tr>\n",
       "      <th>2</th>\n",
       "      <td>Unique Items</td>\n",
       "      <td>179</td>\n",
       "    </tr>\n",
       "    <tr>\n",
       "      <th>3</th>\n",
       "      <td>Average Price</td>\n",
       "      <td>$3.05</td>\n",
       "    </tr>\n",
       "    <tr>\n",
       "      <th>4</th>\n",
       "      <td>Items Sold</td>\n",
       "      <td>780</td>\n",
       "    </tr>\n",
       "    <tr>\n",
       "      <th>5</th>\n",
       "      <td>Revenue</td>\n",
       "      <td>$2379.77</td>\n",
       "    </tr>\n",
       "  </tbody>\n",
       "</table>\n",
       "</div>"
      ],
      "text/plain": [
       "        Category    Amount\n",
       "1   Player Count       576\n",
       "2   Unique Items       179\n",
       "3  Average Price     $3.05\n",
       "4     Items Sold       780\n",
       "5        Revenue  $2379.77"
      ]
     },
     "execution_count": 68,
     "metadata": {},
     "output_type": "execute_result"
    }
   ],
   "source": [
    "# Print the results of the analysis in a DataFrame\n",
    "purchasing_analysis = {\"Category\": pd.Series([\"Player Count\", \"Unique Items\", \"Average Price\", \"Items Sold\", \"Revenue\"],\n",
    "                     index=[\"1\", \"2\", \"3\", \"4\", \"5\"]),\n",
    "                \"Amount\" : pd.Series([576, 179, \"$3.05\", 780, \"$2379.77\"],\n",
    "                                 index=[\"1\", \"2\", \"3\", \"4\", \"5\"])}\n",
    "purchasing_analysis_df=pd.DataFrame(purchasing_analysis)\n",
    "purchasing_analysis_df"
   ]
  },
  {
   "cell_type": "code",
   "execution_count": 69,
   "metadata": {},
   "outputs": [
    {
     "data": {
      "text/plain": [
       "Male                     652\n",
       "Female                   113\n",
       "Other / Non-Disclosed     15\n",
       "Name: Gender, dtype: int64"
      ]
     },
     "execution_count": 69,
     "metadata": {},
     "output_type": "execute_result"
    }
   ],
   "source": [
    "#Gender Demographics\n",
    "#Find the percentage and count of Male / Female / and Non_Disclosed Players\n",
    "pymoli_users_df = purchase_data_df\n",
    "pymoli_users_df[\"Gender\"].value_counts()"
   ]
  },
  {
   "cell_type": "code",
   "execution_count": 70,
   "metadata": {},
   "outputs": [
    {
     "data": {
      "text/plain": [
       "Male              652\n",
       "Female            113\n",
       "Not_Identified     15\n",
       "Name: Gender, dtype: int64"
      ]
     },
     "execution_count": 70,
     "metadata": {},
     "output_type": "execute_result"
    }
   ],
   "source": [
    "# Rename \"Other / Non_Disclosed\" to \"Not_Identifed\"\n",
    "pymoli_gender_df =pymoli_users_df.replace({\"Other / Non-Disclosed\": \"Not_Identified\"})\n",
    "pymoli_gender_df[\"Gender\"].value_counts()"
   ]
  },
  {
   "cell_type": "code",
   "execution_count": 71,
   "metadata": {},
   "outputs": [
    {
     "name": "stdout",
     "output_type": "stream",
     "text": [
      " Total: 780\n",
      " Male: 652\n",
      " Female: 113\n",
      " Not_Identified: 15\n"
     ]
    }
   ],
   "source": [
    "# Count Gender Demographics\n",
    "total_gender = pymoli_gender_df[\"Gender\"].count()\n",
    "male = pymoli_gender_df[\"Gender\"].value_counts()[\"Male\"]\n",
    "female = pymoli_gender_df[\"Gender\"].value_counts()[\"Female\"]\n",
    "not_identified = pymoli_gender_df[\"Gender\"].value_counts()[\"Not_Identified\"]\n",
    "print(f\" Total: {total_gender}\\n Male: {male}\\n Female: {female}\\n Not_Identified: {not_identified}\")"
   ]
  },
  {
   "cell_type": "code",
   "execution_count": 72,
   "metadata": {},
   "outputs": [
    {
     "name": "stdout",
     "output_type": "stream",
     "text": [
      " % Male: 83.58974358974359\n",
      " % Female: 14.487179487179489\n",
      " % Non_Identified: 1.9230769230769231\n"
     ]
    }
   ],
   "source": [
    "# Calculate Gender Demographics Percentage\n",
    "male_percent = (male/total_gender) * 100\n",
    "female_percent = (female/total_gender) * 100\n",
    "not_identified_percent = (not_identified/total_gender) * 100\n",
    "print(f\" % Male: {male_percent}\\n % Female: {female_percent}\\n % Non_Identified: {not_identified_percent}\")"
   ]
  },
  {
   "cell_type": "code",
   "execution_count": 73,
   "metadata": {},
   "outputs": [
    {
     "data": {
      "text/html": [
       "<div>\n",
       "<style scoped>\n",
       "    .dataframe tbody tr th:only-of-type {\n",
       "        vertical-align: middle;\n",
       "    }\n",
       "\n",
       "    .dataframe tbody tr th {\n",
       "        vertical-align: top;\n",
       "    }\n",
       "\n",
       "    .dataframe thead th {\n",
       "        text-align: right;\n",
       "    }\n",
       "</style>\n",
       "<table border=\"1\" class=\"dataframe\">\n",
       "  <thead>\n",
       "    <tr style=\"text-align: right;\">\n",
       "      <th></th>\n",
       "      <th>Count</th>\n",
       "      <th>Percent</th>\n",
       "    </tr>\n",
       "  </thead>\n",
       "  <tbody>\n",
       "    <tr>\n",
       "      <th>Male Players</th>\n",
       "      <td>652</td>\n",
       "      <td>83.59%</td>\n",
       "    </tr>\n",
       "    <tr>\n",
       "      <th>Female Players</th>\n",
       "      <td>113</td>\n",
       "      <td>14.49%</td>\n",
       "    </tr>\n",
       "    <tr>\n",
       "      <th>Not Identified</th>\n",
       "      <td>15</td>\n",
       "      <td>1.92%</td>\n",
       "    </tr>\n",
       "    <tr>\n",
       "      <th>Total Players</th>\n",
       "      <td>780</td>\n",
       "      <td>100%</td>\n",
       "    </tr>\n",
       "  </tbody>\n",
       "</table>\n",
       "</div>"
      ],
      "text/plain": [
       "                Count Percent\n",
       "Male Players      652  83.59%\n",
       "Female Players    113  14.49%\n",
       "Not Identified     15   1.92%\n",
       "Total Players     780    100%"
      ]
     },
     "execution_count": 73,
     "metadata": {},
     "output_type": "execute_result"
    }
   ],
   "source": [
    "# Print the results of the analysis in a DataFrame\n",
    "gender_demographics = {\"Count\": pd.Series([652, 113, 15, 780],\n",
    "                     index=[\"Male Players\", \"Female Players\", \"Not Identified\", \"Total Players\"]),\n",
    "                \"Percent\" : pd.Series([\"83.59%\", \"14.49%\", \"1.92%\", \"100%\"],\n",
    "                                 index=[\"Male Players\", \"Female Players\", \"Not Identified\", \"Total Players\"])}\n",
    "gender_demographics_df=pd.DataFrame(gender_demographics)\n",
    "gender_demographics_df"
   ]
  },
  {
   "cell_type": "code",
   "execution_count": 74,
   "metadata": {},
   "outputs": [
    {
     "data": {
      "text/html": [
       "<div>\n",
       "<style scoped>\n",
       "    .dataframe tbody tr th:only-of-type {\n",
       "        vertical-align: middle;\n",
       "    }\n",
       "\n",
       "    .dataframe tbody tr th {\n",
       "        vertical-align: top;\n",
       "    }\n",
       "\n",
       "    .dataframe thead th {\n",
       "        text-align: right;\n",
       "    }\n",
       "</style>\n",
       "<table border=\"1\" class=\"dataframe\">\n",
       "  <thead>\n",
       "    <tr style=\"text-align: right;\">\n",
       "      <th></th>\n",
       "      <th>Item ID</th>\n",
       "    </tr>\n",
       "    <tr>\n",
       "      <th>Gender</th>\n",
       "      <th></th>\n",
       "    </tr>\n",
       "  </thead>\n",
       "  <tbody>\n",
       "    <tr>\n",
       "      <th>Female</th>\n",
       "      <td>113</td>\n",
       "    </tr>\n",
       "    <tr>\n",
       "      <th>Male</th>\n",
       "      <td>652</td>\n",
       "    </tr>\n",
       "    <tr>\n",
       "      <th>Other / Non-Disclosed</th>\n",
       "      <td>15</td>\n",
       "    </tr>\n",
       "  </tbody>\n",
       "</table>\n",
       "</div>"
      ],
      "text/plain": [
       "                       Item ID\n",
       "Gender                        \n",
       "Female                     113\n",
       "Male                       652\n",
       "Other / Non-Disclosed       15"
      ]
     },
     "execution_count": 74,
     "metadata": {},
     "output_type": "execute_result"
    }
   ],
   "source": [
    "# Purchasing Analysis (Gender Based)\n",
    "# Use the groupby function to group results\n",
    "# Purchase Count by gender\n",
    "pymoli_purchases_df =purchase_data_df.loc[:, [\"Item ID\", \"Gender\"]] \n",
    "grouped_purchases_df = pymoli_purchases_df.groupby([\"Gender\"])\n",
    "grouped_purchases_df.count()"
   ]
  },
  {
   "cell_type": "code",
   "execution_count": 75,
   "metadata": {},
   "outputs": [
    {
     "data": {
      "text/html": [
       "<div>\n",
       "<style scoped>\n",
       "    .dataframe tbody tr th:only-of-type {\n",
       "        vertical-align: middle;\n",
       "    }\n",
       "\n",
       "    .dataframe tbody tr th {\n",
       "        vertical-align: top;\n",
       "    }\n",
       "\n",
       "    .dataframe thead th {\n",
       "        text-align: right;\n",
       "    }\n",
       "</style>\n",
       "<table border=\"1\" class=\"dataframe\">\n",
       "  <thead>\n",
       "    <tr style=\"text-align: right;\">\n",
       "      <th></th>\n",
       "      <th>Price</th>\n",
       "    </tr>\n",
       "    <tr>\n",
       "      <th>Gender</th>\n",
       "      <th></th>\n",
       "    </tr>\n",
       "  </thead>\n",
       "  <tbody>\n",
       "    <tr>\n",
       "      <th>Female</th>\n",
       "      <td>3.203009</td>\n",
       "    </tr>\n",
       "    <tr>\n",
       "      <th>Male</th>\n",
       "      <td>3.017853</td>\n",
       "    </tr>\n",
       "    <tr>\n",
       "      <th>Other / Non-Disclosed</th>\n",
       "      <td>3.346000</td>\n",
       "    </tr>\n",
       "  </tbody>\n",
       "</table>\n",
       "</div>"
      ],
      "text/plain": [
       "                          Price\n",
       "Gender                         \n",
       "Female                 3.203009\n",
       "Male                   3.017853\n",
       "Other / Non-Disclosed  3.346000"
      ]
     },
     "execution_count": 75,
     "metadata": {},
     "output_type": "execute_result"
    }
   ],
   "source": [
    "# Get average purchase amount by gender\n",
    "pymoli_averages_df=purchase_data_df.loc[:, [ \"Gender\", \"Item Name\", \"Price\"]]\n",
    "grouped_purchases_df = pymoli_averages_df.groupby([\"Gender\"])\n",
    "grouped_purchases_df.mean()"
   ]
  },
  {
   "cell_type": "code",
   "execution_count": 76,
   "metadata": {},
   "outputs": [
    {
     "data": {
      "text/html": [
       "<div>\n",
       "<style scoped>\n",
       "    .dataframe tbody tr th:only-of-type {\n",
       "        vertical-align: middle;\n",
       "    }\n",
       "\n",
       "    .dataframe tbody tr th {\n",
       "        vertical-align: top;\n",
       "    }\n",
       "\n",
       "    .dataframe thead th {\n",
       "        text-align: right;\n",
       "    }\n",
       "</style>\n",
       "<table border=\"1\" class=\"dataframe\">\n",
       "  <thead>\n",
       "    <tr style=\"text-align: right;\">\n",
       "      <th></th>\n",
       "      <th>Price</th>\n",
       "    </tr>\n",
       "    <tr>\n",
       "      <th>Gender</th>\n",
       "      <th></th>\n",
       "    </tr>\n",
       "  </thead>\n",
       "  <tbody>\n",
       "    <tr>\n",
       "      <th>Female</th>\n",
       "      <td>361.94</td>\n",
       "    </tr>\n",
       "    <tr>\n",
       "      <th>Male</th>\n",
       "      <td>1967.64</td>\n",
       "    </tr>\n",
       "    <tr>\n",
       "      <th>Other / Non-Disclosed</th>\n",
       "      <td>50.19</td>\n",
       "    </tr>\n",
       "  </tbody>\n",
       "</table>\n",
       "</div>"
      ],
      "text/plain": [
       "                         Price\n",
       "Gender                        \n",
       "Female                  361.94\n",
       "Male                   1967.64\n",
       "Other / Non-Disclosed    50.19"
      ]
     },
     "execution_count": 76,
     "metadata": {},
     "output_type": "execute_result"
    }
   ],
   "source": [
    "# Get the total purchase amount by gender\n",
    "grouped_purchases_df = pymoli_averages_df.groupby([\"Gender\"])\n",
    "grouped_purchases_df.sum()"
   ]
  },
  {
   "cell_type": "code",
   "execution_count": 77,
   "metadata": {},
   "outputs": [
    {
     "data": {
      "text/html": [
       "<div>\n",
       "<style scoped>\n",
       "    .dataframe tbody tr th:only-of-type {\n",
       "        vertical-align: middle;\n",
       "    }\n",
       "\n",
       "    .dataframe tbody tr th {\n",
       "        vertical-align: top;\n",
       "    }\n",
       "\n",
       "    .dataframe thead th {\n",
       "        text-align: right;\n",
       "    }\n",
       "</style>\n",
       "<table border=\"1\" class=\"dataframe\">\n",
       "  <thead>\n",
       "    <tr style=\"text-align: right;\">\n",
       "      <th></th>\n",
       "      <th>Purchase Count</th>\n",
       "      <th>Average Purchase Price</th>\n",
       "      <th>Total Purchase Value</th>\n",
       "    </tr>\n",
       "  </thead>\n",
       "  <tbody>\n",
       "    <tr>\n",
       "      <th>Male Players</th>\n",
       "      <td>652</td>\n",
       "      <td>$3.02</td>\n",
       "      <td>$1967.64</td>\n",
       "    </tr>\n",
       "    <tr>\n",
       "      <th>Female Players</th>\n",
       "      <td>113</td>\n",
       "      <td>$3.20</td>\n",
       "      <td>$361.94</td>\n",
       "    </tr>\n",
       "    <tr>\n",
       "      <th>Not Identified</th>\n",
       "      <td>15</td>\n",
       "      <td>$3.35</td>\n",
       "      <td>$50.19</td>\n",
       "    </tr>\n",
       "  </tbody>\n",
       "</table>\n",
       "</div>"
      ],
      "text/plain": [
       "                Purchase Count Average Purchase Price Total Purchase Value\n",
       "Male Players               652                  $3.02             $1967.64\n",
       "Female Players             113                  $3.20              $361.94\n",
       "Not Identified              15                  $3.35               $50.19"
      ]
     },
     "execution_count": 77,
     "metadata": {},
     "output_type": "execute_result"
    }
   ],
   "source": [
    "# Print the results of the analysis in a DataFrame\n",
    "gender_purchases = {\"Purchase Count\": pd.Series([652, 113, 15],\n",
    "                     index=[\"Male Players\", \"Female Players\", \"Not Identified\"]),\n",
    "                \"Average Purchase Price\" : pd.Series([\"$3.02\", \"$3.20\", \"$3.35\"],\n",
    "                     index=[\"Male Players\", \"Female Players\", \"Not Identified\"]),\n",
    "                 \"Total Purchase Value\" : pd.Series([\"$1967.64\", \"$361.94\", \"$50.19\"],\n",
    "                     index=[\"Male Players\", \"Female Players\", \"Not Identified\"])}\n",
    "gender_purchases_df=pd.DataFrame(gender_purchases)\n",
    "gender_purchases_df"
   ]
  },
  {
   "cell_type": "code",
   "execution_count": 78,
   "metadata": {},
   "outputs": [],
   "source": [
    "# Use the groupby function to group results into bins\n",
    "bins=[0, 10, 15, 20, 25, 30, 35, 40, 45, 50]\n",
    "\n",
    "# Create labels for these bins\n",
    "group_labels =[\"0 to 9\",\"10 to 14\", \"15 to 19\", \"20 to 24\", \"25 to 29\", \"30 to 34\", \"35 to 39\", \"40 to 44\", \"45+\"]"
   ]
  },
  {
   "cell_type": "code",
   "execution_count": 79,
   "metadata": {
    "scrolled": true
   },
   "outputs": [
    {
     "data": {
      "text/html": [
       "<div>\n",
       "<style scoped>\n",
       "    .dataframe tbody tr th:only-of-type {\n",
       "        vertical-align: middle;\n",
       "    }\n",
       "\n",
       "    .dataframe tbody tr th {\n",
       "        vertical-align: top;\n",
       "    }\n",
       "\n",
       "    .dataframe thead th {\n",
       "        text-align: right;\n",
       "    }\n",
       "</style>\n",
       "<table border=\"1\" class=\"dataframe\">\n",
       "  <thead>\n",
       "    <tr style=\"text-align: right;\">\n",
       "      <th></th>\n",
       "      <th>Purchase ID</th>\n",
       "      <th>SN</th>\n",
       "      <th>Age</th>\n",
       "      <th>Gender</th>\n",
       "      <th>Item ID</th>\n",
       "      <th>Item Name</th>\n",
       "      <th>Price</th>\n",
       "      <th>Age Summary</th>\n",
       "    </tr>\n",
       "  </thead>\n",
       "  <tbody>\n",
       "    <tr>\n",
       "      <th>0</th>\n",
       "      <td>0</td>\n",
       "      <td>Lisim78</td>\n",
       "      <td>20</td>\n",
       "      <td>Male</td>\n",
       "      <td>108</td>\n",
       "      <td>Extraction, Quickblade Of Trembling Hands</td>\n",
       "      <td>3.53</td>\n",
       "      <td>15 to 19</td>\n",
       "    </tr>\n",
       "    <tr>\n",
       "      <th>1</th>\n",
       "      <td>1</td>\n",
       "      <td>Lisovynya38</td>\n",
       "      <td>40</td>\n",
       "      <td>Male</td>\n",
       "      <td>143</td>\n",
       "      <td>Frenzied Scimitar</td>\n",
       "      <td>1.56</td>\n",
       "      <td>35 to 39</td>\n",
       "    </tr>\n",
       "    <tr>\n",
       "      <th>2</th>\n",
       "      <td>2</td>\n",
       "      <td>Ithergue48</td>\n",
       "      <td>24</td>\n",
       "      <td>Male</td>\n",
       "      <td>92</td>\n",
       "      <td>Final Critic</td>\n",
       "      <td>4.88</td>\n",
       "      <td>20 to 24</td>\n",
       "    </tr>\n",
       "    <tr>\n",
       "      <th>3</th>\n",
       "      <td>3</td>\n",
       "      <td>Chamassasya86</td>\n",
       "      <td>24</td>\n",
       "      <td>Male</td>\n",
       "      <td>100</td>\n",
       "      <td>Blindscythe</td>\n",
       "      <td>3.27</td>\n",
       "      <td>20 to 24</td>\n",
       "    </tr>\n",
       "    <tr>\n",
       "      <th>4</th>\n",
       "      <td>4</td>\n",
       "      <td>Iskosia90</td>\n",
       "      <td>23</td>\n",
       "      <td>Male</td>\n",
       "      <td>131</td>\n",
       "      <td>Fury</td>\n",
       "      <td>1.44</td>\n",
       "      <td>20 to 24</td>\n",
       "    </tr>\n",
       "    <tr>\n",
       "      <th>...</th>\n",
       "      <td>...</td>\n",
       "      <td>...</td>\n",
       "      <td>...</td>\n",
       "      <td>...</td>\n",
       "      <td>...</td>\n",
       "      <td>...</td>\n",
       "      <td>...</td>\n",
       "      <td>...</td>\n",
       "    </tr>\n",
       "    <tr>\n",
       "      <th>775</th>\n",
       "      <td>775</td>\n",
       "      <td>Aethedru70</td>\n",
       "      <td>21</td>\n",
       "      <td>Female</td>\n",
       "      <td>60</td>\n",
       "      <td>Wolf</td>\n",
       "      <td>3.54</td>\n",
       "      <td>20 to 24</td>\n",
       "    </tr>\n",
       "    <tr>\n",
       "      <th>776</th>\n",
       "      <td>776</td>\n",
       "      <td>Iral74</td>\n",
       "      <td>21</td>\n",
       "      <td>Male</td>\n",
       "      <td>164</td>\n",
       "      <td>Exiled Doomblade</td>\n",
       "      <td>1.63</td>\n",
       "      <td>20 to 24</td>\n",
       "    </tr>\n",
       "    <tr>\n",
       "      <th>777</th>\n",
       "      <td>777</td>\n",
       "      <td>Yathecal72</td>\n",
       "      <td>20</td>\n",
       "      <td>Male</td>\n",
       "      <td>67</td>\n",
       "      <td>Celeste, Incarnation of the Corrupted</td>\n",
       "      <td>3.46</td>\n",
       "      <td>15 to 19</td>\n",
       "    </tr>\n",
       "    <tr>\n",
       "      <th>778</th>\n",
       "      <td>778</td>\n",
       "      <td>Sisur91</td>\n",
       "      <td>7</td>\n",
       "      <td>Male</td>\n",
       "      <td>92</td>\n",
       "      <td>Final Critic</td>\n",
       "      <td>4.19</td>\n",
       "      <td>0 to 9</td>\n",
       "    </tr>\n",
       "    <tr>\n",
       "      <th>779</th>\n",
       "      <td>779</td>\n",
       "      <td>Ennrian78</td>\n",
       "      <td>24</td>\n",
       "      <td>Male</td>\n",
       "      <td>50</td>\n",
       "      <td>Dawn</td>\n",
       "      <td>4.60</td>\n",
       "      <td>20 to 24</td>\n",
       "    </tr>\n",
       "  </tbody>\n",
       "</table>\n",
       "<p>780 rows × 8 columns</p>\n",
       "</div>"
      ],
      "text/plain": [
       "     Purchase ID             SN  Age  Gender  Item ID  \\\n",
       "0              0        Lisim78   20    Male      108   \n",
       "1              1    Lisovynya38   40    Male      143   \n",
       "2              2     Ithergue48   24    Male       92   \n",
       "3              3  Chamassasya86   24    Male      100   \n",
       "4              4      Iskosia90   23    Male      131   \n",
       "..           ...            ...  ...     ...      ...   \n",
       "775          775     Aethedru70   21  Female       60   \n",
       "776          776         Iral74   21    Male      164   \n",
       "777          777     Yathecal72   20    Male       67   \n",
       "778          778        Sisur91    7    Male       92   \n",
       "779          779      Ennrian78   24    Male       50   \n",
       "\n",
       "                                     Item Name  Price Age Summary  \n",
       "0    Extraction, Quickblade Of Trembling Hands   3.53    15 to 19  \n",
       "1                            Frenzied Scimitar   1.56    35 to 39  \n",
       "2                                 Final Critic   4.88    20 to 24  \n",
       "3                                  Blindscythe   3.27    20 to 24  \n",
       "4                                         Fury   1.44    20 to 24  \n",
       "..                                         ...    ...         ...  \n",
       "775                                       Wolf   3.54    20 to 24  \n",
       "776                           Exiled Doomblade   1.63    20 to 24  \n",
       "777      Celeste, Incarnation of the Corrupted   3.46    15 to 19  \n",
       "778                               Final Critic   4.19      0 to 9  \n",
       "779                                       Dawn   4.60    20 to 24  \n",
       "\n",
       "[780 rows x 8 columns]"
      ]
     },
     "execution_count": 79,
     "metadata": {},
     "output_type": "execute_result"
    }
   ],
   "source": [
    "# Place the data series into a new column inside of the DataFrame\n",
    "purchase_data_df[\"Age Summary\"] = pd.cut(purchase_data_df[\"Age\"], bins, labels=group_labels, include_lowest=True)\n",
    "purchase_data_df"
   ]
  },
  {
   "cell_type": "code",
   "execution_count": 91,
   "metadata": {},
   "outputs": [
    {
     "data": {
      "text/html": [
       "<div>\n",
       "<style scoped>\n",
       "    .dataframe tbody tr th:only-of-type {\n",
       "        vertical-align: middle;\n",
       "    }\n",
       "\n",
       "    .dataframe tbody tr th {\n",
       "        vertical-align: top;\n",
       "    }\n",
       "\n",
       "    .dataframe thead th {\n",
       "        text-align: right;\n",
       "    }\n",
       "</style>\n",
       "<table border=\"1\" class=\"dataframe\">\n",
       "  <thead>\n",
       "    <tr style=\"text-align: right;\">\n",
       "      <th></th>\n",
       "      <th>Purchase ID</th>\n",
       "      <th>Age</th>\n",
       "      <th>Item ID</th>\n",
       "      <th>Price</th>\n",
       "    </tr>\n",
       "    <tr>\n",
       "      <th>Age Summary</th>\n",
       "      <th></th>\n",
       "      <th></th>\n",
       "      <th></th>\n",
       "      <th></th>\n",
       "    </tr>\n",
       "  </thead>\n",
       "  <tbody>\n",
       "    <tr>\n",
       "      <th>0 to 9</th>\n",
       "      <td>389.906250</td>\n",
       "      <td>8.468750</td>\n",
       "      <td>106.250000</td>\n",
       "      <td>3.405000</td>\n",
       "    </tr>\n",
       "    <tr>\n",
       "      <th>10 to 14</th>\n",
       "      <td>416.833333</td>\n",
       "      <td>13.962963</td>\n",
       "      <td>91.407407</td>\n",
       "      <td>2.900000</td>\n",
       "    </tr>\n",
       "    <tr>\n",
       "      <th>15 to 19</th>\n",
       "      <td>389.595000</td>\n",
       "      <td>18.695000</td>\n",
       "      <td>90.805000</td>\n",
       "      <td>3.107800</td>\n",
       "    </tr>\n",
       "    <tr>\n",
       "      <th>20 to 24</th>\n",
       "      <td>386.338462</td>\n",
       "      <td>22.972308</td>\n",
       "      <td>89.806154</td>\n",
       "      <td>3.020431</td>\n",
       "    </tr>\n",
       "    <tr>\n",
       "      <th>25 to 29</th>\n",
       "      <td>387.324675</td>\n",
       "      <td>28.584416</td>\n",
       "      <td>93.792208</td>\n",
       "      <td>2.875584</td>\n",
       "    </tr>\n",
       "    <tr>\n",
       "      <th>30 to 34</th>\n",
       "      <td>362.057692</td>\n",
       "      <td>33.288462</td>\n",
       "      <td>89.461538</td>\n",
       "      <td>2.994423</td>\n",
       "    </tr>\n",
       "    <tr>\n",
       "      <th>35 to 39</th>\n",
       "      <td>391.151515</td>\n",
       "      <td>38.030303</td>\n",
       "      <td>104.090909</td>\n",
       "      <td>3.404545</td>\n",
       "    </tr>\n",
       "    <tr>\n",
       "      <th>40 to 44</th>\n",
       "      <td>540.857143</td>\n",
       "      <td>42.857143</td>\n",
       "      <td>82.285714</td>\n",
       "      <td>3.075714</td>\n",
       "    </tr>\n",
       "    <tr>\n",
       "      <th>45+</th>\n",
       "      <td>NaN</td>\n",
       "      <td>NaN</td>\n",
       "      <td>NaN</td>\n",
       "      <td>NaN</td>\n",
       "    </tr>\n",
       "  </tbody>\n",
       "</table>\n",
       "</div>"
      ],
      "text/plain": [
       "             Purchase ID        Age     Item ID     Price\n",
       "Age Summary                                              \n",
       "0 to 9        389.906250   8.468750  106.250000  3.405000\n",
       "10 to 14      416.833333  13.962963   91.407407  2.900000\n",
       "15 to 19      389.595000  18.695000   90.805000  3.107800\n",
       "20 to 24      386.338462  22.972308   89.806154  3.020431\n",
       "25 to 29      387.324675  28.584416   93.792208  2.875584\n",
       "30 to 34      362.057692  33.288462   89.461538  2.994423\n",
       "35 to 39      391.151515  38.030303  104.090909  3.404545\n",
       "40 to 44      540.857143  42.857143   82.285714  3.075714\n",
       "45+                  NaN        NaN         NaN       NaN"
      ]
     },
     "execution_count": 91,
     "metadata": {},
     "output_type": "execute_result"
    }
   ],
   "source": [
    "# Average Purchase Price by Age Group\n",
    "age_group= purchase_data_df.groupby(\"Age Summary\")\n",
    "age_group_comparison = age_group.mean()\n",
    "age_group_comparison"
   ]
  },
  {
   "cell_type": "code",
   "execution_count": 98,
   "metadata": {},
   "outputs": [
    {
     "data": {
      "text/html": [
       "<div>\n",
       "<style scoped>\n",
       "    .dataframe tbody tr th:only-of-type {\n",
       "        vertical-align: middle;\n",
       "    }\n",
       "\n",
       "    .dataframe tbody tr th {\n",
       "        vertical-align: top;\n",
       "    }\n",
       "\n",
       "    .dataframe thead th {\n",
       "        text-align: right;\n",
       "    }\n",
       "</style>\n",
       "<table border=\"1\" class=\"dataframe\">\n",
       "  <thead>\n",
       "    <tr style=\"text-align: right;\">\n",
       "      <th></th>\n",
       "      <th>Age</th>\n",
       "      <th>Price</th>\n",
       "    </tr>\n",
       "    <tr>\n",
       "      <th>Age Summary</th>\n",
       "      <th></th>\n",
       "      <th></th>\n",
       "    </tr>\n",
       "  </thead>\n",
       "  <tbody>\n",
       "    <tr>\n",
       "      <th>0 to 9</th>\n",
       "      <td>8.468750</td>\n",
       "      <td>3.405000</td>\n",
       "    </tr>\n",
       "    <tr>\n",
       "      <th>10 to 14</th>\n",
       "      <td>13.962963</td>\n",
       "      <td>2.900000</td>\n",
       "    </tr>\n",
       "    <tr>\n",
       "      <th>15 to 19</th>\n",
       "      <td>18.695000</td>\n",
       "      <td>3.107800</td>\n",
       "    </tr>\n",
       "    <tr>\n",
       "      <th>20 to 24</th>\n",
       "      <td>22.972308</td>\n",
       "      <td>3.020431</td>\n",
       "    </tr>\n",
       "    <tr>\n",
       "      <th>25 to 29</th>\n",
       "      <td>28.584416</td>\n",
       "      <td>2.875584</td>\n",
       "    </tr>\n",
       "  </tbody>\n",
       "</table>\n",
       "</div>"
      ],
      "text/plain": [
       "                   Age     Price\n",
       "Age Summary                     \n",
       "0 to 9        8.468750  3.405000\n",
       "10 to 14     13.962963  2.900000\n",
       "15 to 19     18.695000  3.107800\n",
       "20 to 24     22.972308  3.020431\n",
       "25 to 29     28.584416  2.875584"
      ]
     },
     "execution_count": 98,
     "metadata": {},
     "output_type": "execute_result"
    }
   ],
   "source": [
    "age_group_comparison_slim = age_group_comparison[[\"Age\", \"Price\"]]\n",
    "age_group_comparison_slim.head()"
   ]
  },
  {
   "cell_type": "code",
   "execution_count": 99,
   "metadata": {},
   "outputs": [
    {
     "data": {
      "text/plain": [
       "Age Summary\n",
       "0 to 9      11.873750\n",
       "10 to 14    16.862963\n",
       "15 to 19    21.802800\n",
       "20 to 24    25.992738\n",
       "25 to 29    31.460000\n",
       "30 to 34    36.282885\n",
       "35 to 39    41.434848\n",
       "40 to 44    45.932857\n",
       "45+          0.000000\n",
       "Name: Total, dtype: float64"
      ]
     },
     "execution_count": 99,
     "metadata": {},
     "output_type": "execute_result"
    }
   ],
   "source": [
    "# Total Purchase Price by Age Group\n",
    "age_group_comparison[\"Total\"] = age_group_comparison_slim.sum(axis=1)\n",
    "age_group_comparison[\"Total\"]"
   ]
  },
  {
   "cell_type": "code",
   "execution_count": 100,
   "metadata": {},
   "outputs": [
    {
     "data": {
      "text/plain": [
       "Final Critic                                    13\n",
       "Oathbreaker, Last Hope of the Breaking Storm    12\n",
       "Fiery Glass Crusader                             9\n",
       "Nirvana                                          9\n",
       "Persuasion                                       9\n",
       "Name: Item Name, dtype: int64"
      ]
     },
     "execution_count": 100,
     "metadata": {},
     "output_type": "execute_result"
    }
   ],
   "source": [
    "# Find the top five most purchased items\n",
    "top_5= purchase_data_df[\"Item Name\"].value_counts()\n",
    "top_5.head(5)"
   ]
  },
  {
   "cell_type": "code",
   "execution_count": 107,
   "metadata": {},
   "outputs": [
    {
     "data": {
      "text/plain": [
       "Final Critic                                    40.273184\n",
       "Oathbreaker, Last Hope of the Breaking Storm    37.175247\n",
       "Fiery Glass Crusader                            27.881435\n",
       "Nirvana                                         27.881435\n",
       "Persuasion                                      27.881435\n",
       "Name: Item Name, dtype: float64"
      ]
     },
     "execution_count": 107,
     "metadata": {},
     "output_type": "execute_result"
    }
   ],
   "source": [
    "# Find the top most profitable items\n",
    "most_profitable = top_5*age_group_comparison_slim[\"Price\"].mean()\n",
    "most_profitable.head(5)"
   ]
  },
  {
   "cell_type": "code",
   "execution_count": 86,
   "metadata": {},
   "outputs": [
    {
     "data": {
      "text/plain": [
       "Final Critic                                    13\n",
       "Oathbreaker, Last Hope of the Breaking Storm    12\n",
       "Fiery Glass Crusader                             9\n",
       "Nirvana                                          9\n",
       "Persuasion                                       9\n",
       "Name: Item Name, dtype: int64"
      ]
     },
     "execution_count": 86,
     "metadata": {},
     "output_type": "execute_result"
    }
   ],
   "source": [
    "# Find the top most popular items\n",
    "most_popular = purchase_data_df[\"Item Name\"].value_counts()\n",
    "most_popular.head(5)"
   ]
  },
  {
   "cell_type": "code",
   "execution_count": 122,
   "metadata": {},
   "outputs": [
    {
     "data": {
      "text/plain": [
       "Final Critic                                    40.273184\n",
       "Oathbreaker, Last Hope of the Breaking Storm    37.175247\n",
       "Fiery Glass Crusader                            27.881435\n",
       "Nirvana                                         27.881435\n",
       "Persuasion                                      27.881435\n",
       "Name: Item Name, dtype: float64"
      ]
     },
     "execution_count": 122,
     "metadata": {},
     "output_type": "execute_result"
    }
   ],
   "source": [
    "# \n",
    "top_profitable = purchase_data_df[\"Item Name\"].value_counts()*age_group_comparison_slim[\"Price\"].mean()\n",
    "top_profitable.head(5)"
   ]
  },
  {
   "cell_type": "code",
   "execution_count": 88,
   "metadata": {},
   "outputs": [
    {
     "data": {
      "text/html": [
       "<div>\n",
       "<style scoped>\n",
       "    .dataframe tbody tr th:only-of-type {\n",
       "        vertical-align: middle;\n",
       "    }\n",
       "\n",
       "    .dataframe tbody tr th {\n",
       "        vertical-align: top;\n",
       "    }\n",
       "\n",
       "    .dataframe thead th {\n",
       "        text-align: right;\n",
       "    }\n",
       "</style>\n",
       "<table border=\"1\" class=\"dataframe\">\n",
       "  <thead>\n",
       "    <tr style=\"text-align: right;\">\n",
       "      <th></th>\n",
       "      <th>Purchase Count</th>\n",
       "      <th>Item Price</th>\n",
       "      <th>Total Purchase Value</th>\n",
       "    </tr>\n",
       "  </thead>\n",
       "  <tbody>\n",
       "    <tr>\n",
       "      <th>Final Critic</th>\n",
       "      <td>13</td>\n",
       "      <td>$39.66</td>\n",
       "      <td>$64.87</td>\n",
       "    </tr>\n",
       "    <tr>\n",
       "      <th>Oathbreaker, Last Hope of the Breaking Storm</th>\n",
       "      <td>12</td>\n",
       "      <td>$36.61</td>\n",
       "      <td>$59.88</td>\n",
       "    </tr>\n",
       "    <tr>\n",
       "      <th>Nirvana</th>\n",
       "      <td>9</td>\n",
       "      <td>$27.45</td>\n",
       "      <td>$44.91</td>\n",
       "    </tr>\n",
       "    <tr>\n",
       "      <th>Fiery Glass Crusader</th>\n",
       "      <td>9</td>\n",
       "      <td>$27.45</td>\n",
       "      <td>$44.91</td>\n",
       "    </tr>\n",
       "    <tr>\n",
       "      <th>Extraction, Quickblade Of Trembling Hands</th>\n",
       "      <td>9</td>\n",
       "      <td>$27.45</td>\n",
       "      <td>$44.91</td>\n",
       "    </tr>\n",
       "  </tbody>\n",
       "</table>\n",
       "</div>"
      ],
      "text/plain": [
       "                                              Purchase Count Item Price  \\\n",
       "Final Critic                                              13     $39.66   \n",
       "Oathbreaker, Last Hope of the Breaking Storm              12     $36.61   \n",
       "Nirvana                                                    9     $27.45   \n",
       "Fiery Glass Crusader                                       9     $27.45   \n",
       "Extraction, Quickblade Of Trembling Hands                  9     $27.45   \n",
       "\n",
       "                                             Total Purchase Value  \n",
       "Final Critic                                               $64.87  \n",
       "Oathbreaker, Last Hope of the Breaking Storm               $59.88  \n",
       "Nirvana                                                    $44.91  \n",
       "Fiery Glass Crusader                                       $44.91  \n",
       "Extraction, Quickblade Of Trembling Hands                  $44.91  "
      ]
     },
     "execution_count": 88,
     "metadata": {},
     "output_type": "execute_result"
    }
   ],
   "source": [
    "# Print the results of the analysis in a DataFrame\n",
    "most_profitable_items = {\"Purchase Count\": pd.Series([13, 12, 9, 9, 9],\n",
    "                     index=[\"Final Critic\", \"Oathbreaker, Last Hope of the Breaking Storm\", \"Nirvana\", \"Fiery Glass Crusader\",\"Extraction, Quickblade Of Trembling Hands\"]),\n",
    "                \"Item Price\" : pd.Series([\"$40.27\", \"$37.18\", \"$27.88\", \"$27.88\", \"$27.88\"],\n",
    "                     index=[\"Final Critic\", \"Oathbreaker, Last Hope of the Breaking Storm\", \"Nirvana\", \"Fiery Glass Crusader\",\"Extraction, Quickblade Of Trembling Hands\"]),\n",
    "                 \"Total Purchase Value\" : pd.Series([\"$64.87\", \"$59.88\", \"$44.91\", \"$44.91\", \"$44.91\"],\n",
    "                     index=[\"Final Critic\", \"Oathbreaker, Last Hope of the Breaking Storm\", \"Nirvana\", \"Fiery Glass Crusader\",\"Extraction, Quickblade Of Trembling Hands\"])}\n",
    "most_profitable_items_df=pd.DataFrame(most_profitable_items)\n",
    "most_profitable_items_df"
   ]
  },
  {
   "cell_type": "code",
   "execution_count": null,
   "metadata": {},
   "outputs": [],
   "source": []
  }
 ],
 "metadata": {
  "kernelspec": {
   "display_name": "Python [conda env:root]",
   "language": "python",
   "name": "conda-root-py"
  },
  "language_info": {
   "codemirror_mode": {
    "name": "ipython",
    "version": 3
   },
   "file_extension": ".py",
   "mimetype": "text/x-python",
   "name": "python",
   "nbconvert_exporter": "python",
   "pygments_lexer": "ipython3",
   "version": "3.8.3"
  }
 },
 "nbformat": 4,
 "nbformat_minor": 4
}
